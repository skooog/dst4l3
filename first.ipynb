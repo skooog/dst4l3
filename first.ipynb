{
 "metadata": {
  "name": "",
  "signature": "sha256:2e9510dd61666640017bbd580acaf076bf57442d94fe4f001ffef9cd9782c9ff"
 },
 "nbformat": 3,
 "nbformat_minor": 0,
 "worksheets": []
}